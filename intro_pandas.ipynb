{
  "nbformat": 4,
  "nbformat_minor": 0,
  "metadata": {
    "colab": {
      "name": "intro-pandas.ipynb",
      "provenance": []
    },
    "kernelspec": {
      "name": "python3",
      "display_name": "Python 3"
    }
  },
  "cells": [
    {
      "cell_type": "markdown",
      "metadata": {
        "id": "sOYK01MMgnzY",
        "colab_type": "text"
      },
      "source": [
        "# Introdução ao Pandas\n",
        "\n",
        "A biblioteca _**Pandas**_ é provavelmente a mais popular de todas quando se trata de _Data Science_ em _Python_. \n",
        "\n",
        "Por intermédio dela, você se torna apto a importar dados (arquivos `csv` e `xls`, por exemplo), tratá-los, transformá-los e analisá-los.\n",
        "\n",
        "Uma vez que o conjunto de dados é importado utilizando-se _Pandas_, há certa facilidade em realizar tarefas do tipo:\n",
        "\n",
        "- Extrações de informações estatísticas\n",
        " - Qual a média, mediana, valores máximos e mínimos?\n",
        " - Qual é a distribuição das variáveis?\n",
        " - Qual a correlação entre duas variáveis quaisquer?\n",
        "- Exportar os dados para um novo formato de arquivo\n",
        "- Visualizar gráficos dos mais diferentes tipos\n",
        "- Alimentar modelos de aprendizado de máquina (_machine learning_) construídos no _Scikit-learn_\n",
        "\n",
        "A biblioteca _Pandas_ é construída baseada numa outra biblioteca popular, o _**Numpy**_. Há diversas similaridades entre ambas.\n"
      ]
    },
    {
      "cell_type": "markdown",
      "metadata": {
        "id": "c2hSVoMSiXMk",
        "colab_type": "text"
      },
      "source": [
        "## Instalação e utilização\n",
        "\n",
        "No caso de código executado na máquina local, o _Pandas_ pode ser instalado por comando utilizando o gerenciador de pacotes (`pip` ou `conda`).\n",
        "\n",
        "A depender qual seja, o comando utilizado será:\n",
        "> - `pip install pandas` \n",
        "\n",
        "Ou\n",
        "> - `conda install pandas`\n",
        "\n",
        "Utilizando o Google Colab, entretanto, o _Pandas_ já vem instalado por padrão. A única tarefa que precisa ser realizada é a importação do pacote, o que normalmente é feito utilizando o comando `import nome_do_pacote`.\n",
        "\n",
        "A abreviação das bibliotecas é comumente utilizada em Python. Por exemplo, no caso do _Pandas_: `import pandas as pd`. \n",
        "\n",
        "Caso repare em outros projetos de ciência de dados, provavelmente é assim que utilizam."
      ]
    },
    {
      "cell_type": "code",
      "metadata": {
        "id": "uXTBIORnjnUg",
        "colab_type": "code",
        "colab": {}
      },
      "source": [
        "# importando a biblioteca pandas\n",
        "import pandas as pd"
      ],
      "execution_count": 0,
      "outputs": []
    },
    {
      "cell_type": "markdown",
      "metadata": {
        "id": "Gl-EVrVAjt0A",
        "colab_type": "text"
      },
      "source": [
        "## Importando arquivos `csv`\n",
        "\n",
        "A fim de exemplificar a importação de dados com _Pandas_, observe:\n",
        "\n",
        "Por meio do site [Yahoo Finance](https://finance.yahoo.com/quote/WEGE3.SA/history?p=WEGE3.SA), foram obtidos os dados da ação ordinária da WEG (WEGE3) em formato `csv` e o arquivo foi carregado para [este link](https://raw.githubusercontent.com/gsbcamargo/datasets/master/WEGE3.SA.csv).\n",
        "\n",
        "Para importar o conjunto de dados em formato `csv` basta executar a função  `pd.read_csv('local_do_arquivo')`, informando, entre os parênteses, o local onde o arquivo se encontra (na máquina ou na internet)."
      ]
    },
    {
      "cell_type": "code",
      "metadata": {
        "id": "tkSlN-vSpUN0",
        "colab_type": "code",
        "colab": {}
      },
      "source": [
        "# importar o arquivo csv\n",
        "df = pd.read_csv('https://raw.githubusercontent.com/gsbcamargo/datasets/master/WEGE3.SA.csv')"
      ],
      "execution_count": 0,
      "outputs": []
    },
    {
      "cell_type": "markdown",
      "metadata": {
        "id": "R2GNc9Qdp0jh",
        "colab_type": "text"
      },
      "source": [
        "Voilà! O arquivo `WEGE3.SA.csv` foi importado com sucesso e está pronto para ser utilizado neste _notebook_."
      ]
    },
    {
      "cell_type": "markdown",
      "metadata": {
        "id": "qUzOtrKMqUj6",
        "colab_type": "text"
      },
      "source": [
        "## Conhecendo os componentes básicos do _Pandas_\n",
        "\n",
        "Os dois componentes básicos que devemos conhecer quando trabalhamos com Pandas são `series` e `DataFrame`.\n",
        "\n",
        "A fim de ilustrar o que cada um desses itens representa:\n",
        "\n",
        "![](https://storage.googleapis.com/lds-media/images/series-and-dataframe.width-1200.png)\n",
        "\n",
        "De forma simples: o `DataFrame` é uma planilha do Excel, enquanto `series` é uma coluna individual.\n",
        "\n",
        "Tais estruturas, apesar de parecerem triviais, são poderosas, já que possuem a capacidade de armazenar qualquer tipo de dado, facilitando o trabalho com dados.\n",
        "> - `type()` - mostra o tipo da variável"
      ]
    },
    {
      "cell_type": "code",
      "metadata": {
        "id": "yIu7VsFbtpgx",
        "colab_type": "code",
        "colab": {
          "base_uri": "https://localhost:8080/",
          "height": 35
        },
        "outputId": "1afb7f51-76a4-4dda-f1a5-1c2f47a82046"
      },
      "source": [
        "# checando o tipo da variável df\n",
        "type(df)"
      ],
      "execution_count": 3,
      "outputs": [
        {
          "output_type": "execute_result",
          "data": {
            "text/plain": [
              "pandas.core.frame.DataFrame"
            ]
          },
          "metadata": {
            "tags": []
          },
          "execution_count": 3
        }
      ]
    },
    {
      "cell_type": "code",
      "metadata": {
        "id": "IvHQW5oYtxPZ",
        "colab_type": "code",
        "colab": {
          "base_uri": "https://localhost:8080/",
          "height": 35
        },
        "outputId": "6ff716f3-530d-4f9e-fdd2-7cc25168257e"
      },
      "source": [
        "# checando o tipo de uma coluna presente na variável df\n",
        "type(df['Date'])"
      ],
      "execution_count": 4,
      "outputs": [
        {
          "output_type": "execute_result",
          "data": {
            "text/plain": [
              "pandas.core.series.Series"
            ]
          },
          "metadata": {
            "tags": []
          },
          "execution_count": 4
        }
      ]
    },
    {
      "cell_type": "markdown",
      "metadata": {
        "id": "RgM3hae-t7c7",
        "colab_type": "text"
      },
      "source": [
        "## Dimensões do DataFrame\n",
        "\n",
        "Observe novamente a imagem acima. Basicamente, o arquivo importado se parece com uma tabela Excel, composta por linhas e colunas. A fim de descobrirmos o tamanho da tabela (checando seu formado, _shape_), executamos a função `df.shape`."
      ]
    },
    {
      "cell_type": "code",
      "metadata": {
        "id": "iNVH2ZSpuRLx",
        "colab_type": "code",
        "colab": {
          "base_uri": "https://localhost:8080/",
          "height": 35
        },
        "outputId": "71795da1-a9ce-4c71-fb53-11de41ed0a18"
      },
      "source": [
        "# chechar o tamanho do DataFrame\n",
        "df.shape"
      ],
      "execution_count": 5,
      "outputs": [
        {
          "output_type": "execute_result",
          "data": {
            "text/plain": [
              "(246, 7)"
            ]
          },
          "metadata": {
            "tags": []
          },
          "execution_count": 5
        }
      ]
    },
    {
      "cell_type": "markdown",
      "metadata": {
        "id": "GmrV3q93ui3N",
        "colab_type": "text"
      },
      "source": [
        "O _output_ (ou saída) da função acima é `(246, 7)`, ou seja, o arquivo importado possui 246 linhas e 7 colunas."
      ]
    },
    {
      "cell_type": "markdown",
      "metadata": {
        "id": "qoT7MTBruyug",
        "colab_type": "text"
      },
      "source": [
        "## Conhecendo os dados\n",
        "\n",
        "Uma vez importada a base de dados para o _Pandas_, há muitos atributos e métodos nativos da estrutura _DataFrame_ que permitem a sua exploração.\n",
        "\n",
        "Duas das principais funções da biblioteca (utilizadas em praticamente todos os projetos) são: `df.head()` e `df.tail()`.\n",
        "\n",
        "O arquivo `csv` com os dados das ações da WEGE3 contém 246 linhas, porém é normal que esse número ultrapasse os milhares ou centenas de milhares. Seria inviável observar cada linha a fim de enteder como os dados estão sendo interpretados.\n",
        "\n",
        "Quando se importa um _dataset_, é importante conhecer a estrutura das entradas, objetivando a familiarização com os dados que serão analisados. Para isso servem tais funções:\n",
        "> - `df.head()` - exibe as 5 primeiras entradas do conjunto de dados\n",
        "> - `df.tail()` - exibe as 5 últimas entradas do conjunto de dados"
      ]
    },
    {
      "cell_type": "code",
      "metadata": {
        "id": "SRdepOwGwms_",
        "colab_type": "code",
        "colab": {
          "base_uri": "https://localhost:8080/",
          "height": 206
        },
        "outputId": "524620ac-32be-4d72-ab5a-b89fd913aa44"
      },
      "source": [
        "# mostrar as 5 primeiras entradas do DataFrame\n",
        "df.head()"
      ],
      "execution_count": 6,
      "outputs": [
        {
          "output_type": "execute_result",
          "data": {
            "text/html": [
              "<div>\n",
              "<style scoped>\n",
              "    .dataframe tbody tr th:only-of-type {\n",
              "        vertical-align: middle;\n",
              "    }\n",
              "\n",
              "    .dataframe tbody tr th {\n",
              "        vertical-align: top;\n",
              "    }\n",
              "\n",
              "    .dataframe thead th {\n",
              "        text-align: right;\n",
              "    }\n",
              "</style>\n",
              "<table border=\"1\" class=\"dataframe\">\n",
              "  <thead>\n",
              "    <tr style=\"text-align: right;\">\n",
              "      <th></th>\n",
              "      <th>Date</th>\n",
              "      <th>Open</th>\n",
              "      <th>High</th>\n",
              "      <th>Low</th>\n",
              "      <th>Close</th>\n",
              "      <th>Adj Close</th>\n",
              "      <th>Volume</th>\n",
              "    </tr>\n",
              "  </thead>\n",
              "  <tbody>\n",
              "    <tr>\n",
              "      <th>0</th>\n",
              "      <td>2019-06-17</td>\n",
              "      <td>19.950001</td>\n",
              "      <td>20.530001</td>\n",
              "      <td>19.820000</td>\n",
              "      <td>20.299999</td>\n",
              "      <td>20.038895</td>\n",
              "      <td>3065700.0</td>\n",
              "    </tr>\n",
              "    <tr>\n",
              "      <th>1</th>\n",
              "      <td>2019-06-18</td>\n",
              "      <td>20.450001</td>\n",
              "      <td>20.750000</td>\n",
              "      <td>20.370001</td>\n",
              "      <td>20.639999</td>\n",
              "      <td>20.374521</td>\n",
              "      <td>3753800.0</td>\n",
              "    </tr>\n",
              "    <tr>\n",
              "      <th>2</th>\n",
              "      <td>2019-06-19</td>\n",
              "      <td>20.639999</td>\n",
              "      <td>21.260000</td>\n",
              "      <td>20.559999</td>\n",
              "      <td>21.170000</td>\n",
              "      <td>20.897703</td>\n",
              "      <td>3032800.0</td>\n",
              "    </tr>\n",
              "    <tr>\n",
              "      <th>3</th>\n",
              "      <td>2019-06-21</td>\n",
              "      <td>21.400000</td>\n",
              "      <td>21.559999</td>\n",
              "      <td>21.129999</td>\n",
              "      <td>21.430000</td>\n",
              "      <td>21.154362</td>\n",
              "      <td>4705600.0</td>\n",
              "    </tr>\n",
              "    <tr>\n",
              "      <th>4</th>\n",
              "      <td>2019-06-24</td>\n",
              "      <td>21.430000</td>\n",
              "      <td>21.600000</td>\n",
              "      <td>21.030001</td>\n",
              "      <td>21.580000</td>\n",
              "      <td>21.302431</td>\n",
              "      <td>2486200.0</td>\n",
              "    </tr>\n",
              "  </tbody>\n",
              "</table>\n",
              "</div>"
            ],
            "text/plain": [
              "         Date       Open       High        Low      Close  Adj Close     Volume\n",
              "0  2019-06-17  19.950001  20.530001  19.820000  20.299999  20.038895  3065700.0\n",
              "1  2019-06-18  20.450001  20.750000  20.370001  20.639999  20.374521  3753800.0\n",
              "2  2019-06-19  20.639999  21.260000  20.559999  21.170000  20.897703  3032800.0\n",
              "3  2019-06-21  21.400000  21.559999  21.129999  21.430000  21.154362  4705600.0\n",
              "4  2019-06-24  21.430000  21.600000  21.030001  21.580000  21.302431  2486200.0"
            ]
          },
          "metadata": {
            "tags": []
          },
          "execution_count": 6
        }
      ]
    },
    {
      "cell_type": "code",
      "metadata": {
        "id": "5tV_9ueuwvyi",
        "colab_type": "code",
        "colab": {
          "base_uri": "https://localhost:8080/",
          "height": 206
        },
        "outputId": "db4e50f0-c76d-40c3-a339-d596c7c1c564"
      },
      "source": [
        "# mostrar as 5 últimas entradas do DataFrame\n",
        "df.tail()"
      ],
      "execution_count": 7,
      "outputs": [
        {
          "output_type": "execute_result",
          "data": {
            "text/html": [
              "<div>\n",
              "<style scoped>\n",
              "    .dataframe tbody tr th:only-of-type {\n",
              "        vertical-align: middle;\n",
              "    }\n",
              "\n",
              "    .dataframe tbody tr th {\n",
              "        vertical-align: top;\n",
              "    }\n",
              "\n",
              "    .dataframe thead th {\n",
              "        text-align: right;\n",
              "    }\n",
              "</style>\n",
              "<table border=\"1\" class=\"dataframe\">\n",
              "  <thead>\n",
              "    <tr style=\"text-align: right;\">\n",
              "      <th></th>\n",
              "      <th>Date</th>\n",
              "      <th>Open</th>\n",
              "      <th>High</th>\n",
              "      <th>Low</th>\n",
              "      <th>Close</th>\n",
              "      <th>Adj Close</th>\n",
              "      <th>Volume</th>\n",
              "    </tr>\n",
              "  </thead>\n",
              "  <tbody>\n",
              "    <tr>\n",
              "      <th>241</th>\n",
              "      <td>2020-06-05</td>\n",
              "      <td>44.500000</td>\n",
              "      <td>45.430000</td>\n",
              "      <td>44.049999</td>\n",
              "      <td>44.330002</td>\n",
              "      <td>44.330002</td>\n",
              "      <td>6099000.0</td>\n",
              "    </tr>\n",
              "    <tr>\n",
              "      <th>242</th>\n",
              "      <td>2020-06-08</td>\n",
              "      <td>44.889999</td>\n",
              "      <td>46.279999</td>\n",
              "      <td>44.259998</td>\n",
              "      <td>45.799999</td>\n",
              "      <td>45.799999</td>\n",
              "      <td>5162800.0</td>\n",
              "    </tr>\n",
              "    <tr>\n",
              "      <th>243</th>\n",
              "      <td>2020-06-09</td>\n",
              "      <td>44.730000</td>\n",
              "      <td>46.080002</td>\n",
              "      <td>43.849998</td>\n",
              "      <td>45.810001</td>\n",
              "      <td>45.810001</td>\n",
              "      <td>4179400.0</td>\n",
              "    </tr>\n",
              "    <tr>\n",
              "      <th>244</th>\n",
              "      <td>2020-06-10</td>\n",
              "      <td>45.930000</td>\n",
              "      <td>46.639999</td>\n",
              "      <td>44.470001</td>\n",
              "      <td>44.990002</td>\n",
              "      <td>44.990002</td>\n",
              "      <td>4847800.0</td>\n",
              "    </tr>\n",
              "    <tr>\n",
              "      <th>245</th>\n",
              "      <td>2020-06-12</td>\n",
              "      <td>0.000000</td>\n",
              "      <td>0.000000</td>\n",
              "      <td>0.000000</td>\n",
              "      <td>44.250000</td>\n",
              "      <td>44.250000</td>\n",
              "      <td>0.0</td>\n",
              "    </tr>\n",
              "  </tbody>\n",
              "</table>\n",
              "</div>"
            ],
            "text/plain": [
              "           Date       Open       High  ...      Close  Adj Close     Volume\n",
              "241  2020-06-05  44.500000  45.430000  ...  44.330002  44.330002  6099000.0\n",
              "242  2020-06-08  44.889999  46.279999  ...  45.799999  45.799999  5162800.0\n",
              "243  2020-06-09  44.730000  46.080002  ...  45.810001  45.810001  4179400.0\n",
              "244  2020-06-10  45.930000  46.639999  ...  44.990002  44.990002  4847800.0\n",
              "245  2020-06-12   0.000000   0.000000  ...  44.250000  44.250000        0.0\n",
              "\n",
              "[5 rows x 7 columns]"
            ]
          },
          "metadata": {
            "tags": []
          },
          "execution_count": 7
        }
      ]
    },
    {
      "cell_type": "markdown",
      "metadata": {
        "id": "depT6sjXyksJ",
        "colab_type": "text"
      },
      "source": [
        "Um dos motivos da popularidade do _Pandas_ é justamente a sua capacidade de conseguir mnostrar os dados como se estivessem tabelados, um formato amigável para a facilitar a compreensão.\n",
        "\n",
        "Agora, suponhamos que haja a necessidade de se extrair apenas os nomes das colunas do _DataFrame_. Simples: execute a função `df.columns`."
      ]
    },
    {
      "cell_type": "code",
      "metadata": {
        "id": "uY6RDelSy54A",
        "colab_type": "code",
        "colab": {
          "base_uri": "https://localhost:8080/",
          "height": 35
        },
        "outputId": "cfc37ad3-ff3d-46e3-9681-5f5d4399edda"
      },
      "source": [
        "# ver nome das colunas\n",
        "df.columns"
      ],
      "execution_count": 8,
      "outputs": [
        {
          "output_type": "execute_result",
          "data": {
            "text/plain": [
              "Index(['Date', 'Open', 'High', 'Low', 'Close', 'Adj Close', 'Volume'], dtype='object')"
            ]
          },
          "metadata": {
            "tags": []
          },
          "execution_count": 8
        }
      ]
    },
    {
      "cell_type": "markdown",
      "metadata": {
        "id": "2C9FBjzNzuYA",
        "colab_type": "text"
      },
      "source": [
        "Conhecer o tipo da variável representada em cada coluna é primordial. Vejamos:\n",
        "- Quando há coluna que trata de receita, despesa ou lucro, é desejável que as variáveis sejam do tipo `float`\n",
        "- Quando se há coluna de anos (2015, 2016...), a varável recomendada é a do tipo `int`\n",
        "- Quando trata-se de datas completas (`1990-12-23 08:49`), o recomendável é que a entrada seja do formato `datetime`, para que se possa manipular adequadamente o conjunto de dados.\n",
        "\n",
        "Para tomar conhecimento dos tipos das variáveis da cada coluna, basta executar a função `df.dtypes`."
      ]
    },
    {
      "cell_type": "code",
      "metadata": {
        "id": "6aYe8oxB0bNI",
        "colab_type": "code",
        "colab": {
          "base_uri": "https://localhost:8080/",
          "height": 164
        },
        "outputId": "0603622d-82d3-4b7a-ec29-3df85a7640e6"
      },
      "source": [
        "df.dtypes"
      ],
      "execution_count": 9,
      "outputs": [
        {
          "output_type": "execute_result",
          "data": {
            "text/plain": [
              "Date          object\n",
              "Open         float64\n",
              "High         float64\n",
              "Low          float64\n",
              "Close        float64\n",
              "Adj Close    float64\n",
              "Volume       float64\n",
              "dtype: object"
            ]
          },
          "metadata": {
            "tags": []
          },
          "execution_count": 9
        }
      ]
    },
    {
      "cell_type": "markdown",
      "metadata": {
        "id": "f0AlH7PM0dYC",
        "colab_type": "text"
      },
      "source": [
        "Há, entretanto, outra função que retorna informações ainda mais completas: `df.info()`.\n",
        "Vejamos:"
      ]
    },
    {
      "cell_type": "code",
      "metadata": {
        "id": "KDIPevTK0k9U",
        "colab_type": "code",
        "colab": {
          "base_uri": "https://localhost:8080/",
          "height": 274
        },
        "outputId": "a6d533af-db4f-4e30-e9d9-f88af0760e48"
      },
      "source": [
        "df.info()"
      ],
      "execution_count": 10,
      "outputs": [
        {
          "output_type": "stream",
          "text": [
            "<class 'pandas.core.frame.DataFrame'>\n",
            "RangeIndex: 246 entries, 0 to 245\n",
            "Data columns (total 7 columns):\n",
            " #   Column     Non-Null Count  Dtype  \n",
            "---  ------     --------------  -----  \n",
            " 0   Date       246 non-null    object \n",
            " 1   Open       245 non-null    float64\n",
            " 2   High       245 non-null    float64\n",
            " 3   Low        245 non-null    float64\n",
            " 4   Close      245 non-null    float64\n",
            " 5   Adj Close  245 non-null    float64\n",
            " 6   Volume     245 non-null    float64\n",
            "dtypes: float64(6), object(1)\n",
            "memory usage: 13.6+ KB\n"
          ],
          "name": "stdout"
        }
      ]
    },
    {
      "cell_type": "markdown",
      "metadata": {
        "id": "fDUKzORw1fIl",
        "colab_type": "text"
      },
      "source": [
        "## Selecionando colunas\n",
        "\n",
        "Há algumas maneiras de selecionar um sub-conjunto de dados de uma estrutura _DataFrame_.\n",
        "Na maior parte dos casos, porém, o que se faz é selecionar apenas uma coluna.\n",
        "Para selecionar uma variável, coloca-se o nome da coluna entre colchetes, referenciando a variável de onde seus dados foram importados."
      ]
    },
    {
      "cell_type": "code",
      "metadata": {
        "id": "IMZxqgcd1iEG",
        "colab_type": "code",
        "colab": {
          "base_uri": "https://localhost:8080/",
          "height": 237
        },
        "outputId": "5b4bcd58-994a-454d-8d92-26c130d305d7"
      },
      "source": [
        "# selecionar a variável (coluna) \"volume\" do DataFrame df\n",
        "df[\"Volume\"]"
      ],
      "execution_count": 11,
      "outputs": [
        {
          "output_type": "execute_result",
          "data": {
            "text/plain": [
              "0      3065700.0\n",
              "1      3753800.0\n",
              "2      3032800.0\n",
              "3      4705600.0\n",
              "4      2486200.0\n",
              "         ...    \n",
              "241    6099000.0\n",
              "242    5162800.0\n",
              "243    4179400.0\n",
              "244    4847800.0\n",
              "245          0.0\n",
              "Name: Volume, Length: 246, dtype: float64"
            ]
          },
          "metadata": {
            "tags": []
          },
          "execution_count": 11
        }
      ]
    },
    {
      "cell_type": "markdown",
      "metadata": {
        "id": "bMrGMHNs146N",
        "colab_type": "text"
      },
      "source": [
        "Caso o nome da coluna não contenha caracteres especiais e nem espaços em branco, há a possibilidade de executar o mesmo comando de forma mais simples: `df.Volume`."
      ]
    },
    {
      "cell_type": "code",
      "metadata": {
        "id": "FBzojF-V16JL",
        "colab_type": "code",
        "colab": {
          "base_uri": "https://localhost:8080/",
          "height": 237
        },
        "outputId": "6f68d2aa-1932-4fe7-ff39-01d06d9234c5"
      },
      "source": [
        "# selecionar a variável (coluna) \"volume\" do DataFrame df\n",
        "df.Volume"
      ],
      "execution_count": 12,
      "outputs": [
        {
          "output_type": "execute_result",
          "data": {
            "text/plain": [
              "0      3065700.0\n",
              "1      3753800.0\n",
              "2      3032800.0\n",
              "3      4705600.0\n",
              "4      2486200.0\n",
              "         ...    \n",
              "241    6099000.0\n",
              "242    5162800.0\n",
              "243    4179400.0\n",
              "244    4847800.0\n",
              "245          0.0\n",
              "Name: Volume, Length: 246, dtype: float64"
            ]
          },
          "metadata": {
            "tags": []
          },
          "execution_count": 12
        }
      ]
    },
    {
      "cell_type": "markdown",
      "metadata": {
        "id": "eMlbravm2Bwd",
        "colab_type": "text"
      },
      "source": [
        "## Calculando a média dos valores de uma coluna\n",
        "\n",
        "Quando executa-se o comando df.Volume, é retornado apenas a coluna `Volume`. Para encontrar a média dos dados, basta utilizar a função complementar `.mean()`, assim: `df.High.mean`.\n"
      ]
    },
    {
      "cell_type": "code",
      "metadata": {
        "id": "ZLWOvwnu2dg2",
        "colab_type": "code",
        "colab": {
          "base_uri": "https://localhost:8080/",
          "height": 35
        },
        "outputId": "8905913c-c0eb-40d4-bd58-a81601f3baf7"
      },
      "source": [
        "# encontrando a média da coluna \"Voluime\"\n",
        "df.Volume.mean()"
      ],
      "execution_count": 13,
      "outputs": [
        {
          "output_type": "execute_result",
          "data": {
            "text/plain": [
              "4885963.265306123"
            ]
          },
          "metadata": {
            "tags": []
          },
          "execution_count": 13
        }
      ]
    },
    {
      "cell_type": "markdown",
      "metadata": {
        "id": "twxAeReZ2ilW",
        "colab_type": "text"
      },
      "source": [
        "Isso significa que a média dos valores é `4885963.265306123`. Existem outras medidas importantes."
      ]
    },
    {
      "cell_type": "markdown",
      "metadata": {
        "id": "mYRAb00G2pmm",
        "colab_type": "text"
      },
      "source": [
        "## Reformatando datas (`datetime`)\n",
        "Quando se importa um arquivo com datas, muito provavelmente o _Pandas_ não as reconhecerá de maneira automática, pois mal formatadas.\n",
        "\n",
        "Quando houve a checagem dos tipos utilizando `df.info()`, observa-se que a coluna `Date` é um `object`. No caso, ela é uma `string` e não permite facilmente a extração de informações úteis.\n",
        "\n",
        "Portanto, há maneiras de se padronizar tais dados com a função `pd.to_datetime` e informando o formado da data apresentada pelo _DataFrame_."
      ]
    },
    {
      "cell_type": "code",
      "metadata": {
        "id": "kmuhO3rz2g2Z",
        "colab_type": "code",
        "colab": {
          "base_uri": "https://localhost:8080/",
          "height": 237
        },
        "outputId": "319a2853-b525-4509-a143-d4ca1466bf07"
      },
      "source": [
        "# antes\n",
        "df.Date"
      ],
      "execution_count": 14,
      "outputs": [
        {
          "output_type": "execute_result",
          "data": {
            "text/plain": [
              "0      2019-06-17\n",
              "1      2019-06-18\n",
              "2      2019-06-19\n",
              "3      2019-06-21\n",
              "4      2019-06-24\n",
              "          ...    \n",
              "241    2020-06-05\n",
              "242    2020-06-08\n",
              "243    2020-06-09\n",
              "244    2020-06-10\n",
              "245    2020-06-12\n",
              "Name: Date, Length: 246, dtype: object"
            ]
          },
          "metadata": {
            "tags": []
          },
          "execution_count": 14
        }
      ]
    },
    {
      "cell_type": "code",
      "metadata": {
        "id": "NDVylkfh32qg",
        "colab_type": "code",
        "colab": {}
      },
      "source": [
        "# converter coluna Date para datetime\n",
        "df.Date = pd.to_datetime(df.Date, format=\"%Y-%m-%d\")"
      ],
      "execution_count": 0,
      "outputs": []
    },
    {
      "cell_type": "code",
      "metadata": {
        "id": "Ml0edW3H3__0",
        "colab_type": "code",
        "colab": {
          "base_uri": "https://localhost:8080/",
          "height": 237
        },
        "outputId": "4c1ea7fa-9bd9-4171-ab89-bcc58826a2bd"
      },
      "source": [
        "# depois da conversão\n",
        "df.Date"
      ],
      "execution_count": 16,
      "outputs": [
        {
          "output_type": "execute_result",
          "data": {
            "text/plain": [
              "0     2019-06-17\n",
              "1     2019-06-18\n",
              "2     2019-06-19\n",
              "3     2019-06-21\n",
              "4     2019-06-24\n",
              "         ...    \n",
              "241   2020-06-05\n",
              "242   2020-06-08\n",
              "243   2020-06-09\n",
              "244   2020-06-10\n",
              "245   2020-06-12\n",
              "Name: Date, Length: 246, dtype: datetime64[ns]"
            ]
          },
          "metadata": {
            "tags": []
          },
          "execution_count": 16
        }
      ]
    },
    {
      "cell_type": "markdown",
      "metadata": {
        "id": "q5vMhNn34Ev5",
        "colab_type": "text"
      },
      "source": [
        "Observe a facilidade de se acessar os componentes da data de forma individualizada utilizando `df.Date.dt`:"
      ]
    },
    {
      "cell_type": "code",
      "metadata": {
        "id": "IUywX47F4Q8u",
        "colab_type": "code",
        "colab": {
          "base_uri": "https://localhost:8080/",
          "height": 237
        },
        "outputId": "1d42ad30-d9fc-4fc6-d69a-5d0e9e5dd971"
      },
      "source": [
        "df.Date.dt.year"
      ],
      "execution_count": 17,
      "outputs": [
        {
          "output_type": "execute_result",
          "data": {
            "text/plain": [
              "0      2019\n",
              "1      2019\n",
              "2      2019\n",
              "3      2019\n",
              "4      2019\n",
              "       ... \n",
              "241    2020\n",
              "242    2020\n",
              "243    2020\n",
              "244    2020\n",
              "245    2020\n",
              "Name: Date, Length: 246, dtype: int64"
            ]
          },
          "metadata": {
            "tags": []
          },
          "execution_count": 17
        }
      ]
    },
    {
      "cell_type": "code",
      "metadata": {
        "id": "PNM8ZnIs4S49",
        "colab_type": "code",
        "colab": {
          "base_uri": "https://localhost:8080/",
          "height": 237
        },
        "outputId": "9f9253f2-d3c2-4dd3-91e5-30f475ac9bb4"
      },
      "source": [
        "df.Date.dt.month"
      ],
      "execution_count": 18,
      "outputs": [
        {
          "output_type": "execute_result",
          "data": {
            "text/plain": [
              "0      6\n",
              "1      6\n",
              "2      6\n",
              "3      6\n",
              "4      6\n",
              "      ..\n",
              "241    6\n",
              "242    6\n",
              "243    6\n",
              "244    6\n",
              "245    6\n",
              "Name: Date, Length: 246, dtype: int64"
            ]
          },
          "metadata": {
            "tags": []
          },
          "execution_count": 18
        }
      ]
    },
    {
      "cell_type": "code",
      "metadata": {
        "id": "LokLEKe94UZa",
        "colab_type": "code",
        "colab": {
          "base_uri": "https://localhost:8080/",
          "height": 237
        },
        "outputId": "60902cbf-29a8-4ff0-93f2-5e36f09f2f35"
      },
      "source": [
        "df.Date.dt.day"
      ],
      "execution_count": 19,
      "outputs": [
        {
          "output_type": "execute_result",
          "data": {
            "text/plain": [
              "0      17\n",
              "1      18\n",
              "2      19\n",
              "3      21\n",
              "4      24\n",
              "       ..\n",
              "241     5\n",
              "242     8\n",
              "243     9\n",
              "244    10\n",
              "245    12\n",
              "Name: Date, Length: 246, dtype: int64"
            ]
          },
          "metadata": {
            "tags": []
          },
          "execution_count": 19
        }
      ]
    },
    {
      "cell_type": "markdown",
      "metadata": {
        "id": "aRTpPxA84XVV",
        "colab_type": "text"
      },
      "source": [
        "Como o ser humano tem capacidade ímpar de inventar moda, um usuário pode lançar diversos formados de data. Exemplos:\n",
        "- 29/06/1998\n",
        "- 29/06/98\n",
        "- 29-6-98\n",
        "- 1998-6-29\n",
        "- 29 de junho de 1998\n",
        "\n",
        "Para estar apto a transformar tais informações não-padronizadas em um tipo de fácil manipulação, há a necessidade de se entender a documentação e de como se procurar a informação desejada na documentação.\n",
        "\n",
        "Dois links úteis para uso:\n",
        "- https://pandas.pydata.org/docs/reference/api/pandas.to_datetime.html?highlight=to_datetime#pandas.to_datetime\n",
        "- https://docs.python.org/3/library/datetime.html#strftime-and-strptime-behavior"
      ]
    }
  ]
}